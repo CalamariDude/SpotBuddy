{
 "cells": [
  {
   "cell_type": "markdown",
   "metadata": {},
   "source": [
    "## notes\n",
    "\n",
    "Each estimation has a confidence, you can consider taking that into account during smoothing "
   ]
  },
  {
   "cell_type": "code",
   "execution_count": 79,
   "metadata": {},
   "outputs": [],
   "source": [
    "import matplotlib.pyplot as plt\n",
    "import numpy as np\n",
    "\n",
    "\n",
    "frames = np.load('frames.npy', allow_pickle=True)\n",
    "labels = np.load('labels.npy', allow_pickle=True)\n"
   ]
  },
  {
   "cell_type": "code",
   "execution_count": 80,
   "metadata": {},
   "outputs": [
    {
     "name": "stdout",
     "output_type": "stream",
     "text": [
      "42\n"
     ]
    }
   ],
   "source": [
    "print(len(frames))"
   ]
  },
  {
   "cell_type": "markdown",
   "metadata": {},
   "source": [
    "## Body part numbers"
   ]
  },
  {
   "cell_type": "code",
   "execution_count": 81,
   "metadata": {},
   "outputs": [
    {
     "name": "stdout",
     "output_type": "stream",
     "text": [
      "0 \t nose\n",
      "1 \t leftEye\n",
      "2 \t rightEye\n",
      "3 \t leftEar\n",
      "4 \t rightEar\n",
      "5 \t leftShoulder\n",
      "6 \t rightShoulder\n",
      "7 \t leftElbow\n",
      "8 \t rightElbow\n",
      "9 \t leftWrist\n",
      "10 \t rightWrist\n",
      "11 \t leftHip\n",
      "12 \t rightHip\n",
      "13 \t leftKnee\n",
      "14 \t rightKnee\n",
      "15 \t leftAnkle\n",
      "16 \t rightAnkle\n"
     ]
    }
   ],
   "source": [
    "poses = frames[0]\n",
    "person_at_frame = poses[0][0]\n",
    "persons_pose = person_at_frame['pose']\n",
    "for i in range(17):\n",
    "    print(i,'\\t' , persons_pose['keypoints'][i]['part'])\n"
   ]
  },
  {
   "cell_type": "code",
   "execution_count": 87,
   "metadata": {},
   "outputs": [
    {
     "name": "stdout",
     "output_type": "stream",
     "text": [
      "0\n",
      "1\n",
      "2\n",
      "3\n",
      "4\n",
      "5\n",
      "6\n",
      "7\n",
      "8\n",
      "9\n",
      "10\n",
      "11\n",
      "12\n",
      "13\n",
      "14\n",
      "15\n",
      "16\n",
      "17\n",
      "18\n",
      "19\n",
      "20\n",
      "21\n",
      "22\n",
      "23\n",
      "24\n",
      "25\n",
      "26\n",
      "27\n",
      "28\n",
      "29\n",
      "30\n",
      "31\n",
      "32\n",
      "33\n",
      "34\n",
      "35\n",
      "36\n",
      "37\n",
      "38\n",
      "(39, 9)\n"
     ]
    }
   ],
   "source": [
    "raw_raw_frames = []\n",
    "exclude = [9,10,8,7,4,3,1,2]\n",
    "for i in range(1):\n",
    "    poses = frames[i]\n",
    "    raw_frames = []\n",
    "    counter = 0\n",
    "    for pose in poses:\n",
    "        ## first grab person [0] then grab 'pose' 'then keypoints' then 'body part number'\n",
    "        ## then grab 'position ' {'x', 'y'}\n",
    "        body_positions = []\n",
    "        for i in range(len(pose[0]['pose']['keypoints'])):\n",
    "            if (i not in exclude):\n",
    "                value = pose[0]['pose']['keypoints'][i]['position']\n",
    "                body_positions.append(value)\n",
    "        print(counter)\n",
    "        counter+=1\n",
    "        raw_frames.append(body_positions)\n",
    "#         print(value)\n",
    "\n",
    "print(np.asarray(raw_frames).shape)\n"
   ]
  },
  {
   "cell_type": "code",
   "execution_count": 95,
   "metadata": {},
   "outputs": [
    {
     "name": "stdout",
     "output_type": "stream",
     "text": [
      "[0. 0. 0. 0. 0. 0. 0. 0. 0.]\n"
     ]
    }
   ],
   "source": [
    "#smoothing of length 3\n",
    "def smoothing(x_arr, window_size = 3):\n",
    "    smoothed = []\n",
    "    for i in range(int(window_size/2),int(len(x_arr)-window_size/2)):\n",
    "        smoothed.append(.333 * x_arr[i-1] + .333 * x_arr[i] + .333 * x_arr[i + 1])\n",
    "    smoothed.append(np.mean(smoothed))\n",
    "    smoothed.append(np.mean(smoothed))\n",
    "    smoothed.append(np.mean(smoothed))\n",
    "    return smoothed\n",
    "\n",
    "def distance_matrix(pose):\n",
    "    mat = np.zeros((9,9))\n",
    "    for i, part1 in enumerate(pose):\n",
    "        for j, part2 in enumerate(pose):\n",
    "            mat[i][j] = np.sqrt((part1['x'] - part2['x'])**2 + (part1['y'] - part2['y'])**2)\n",
    "    return mat\n",
    "print(np.diag(distance_matrix(raw_frames[0])))"
   ]
  },
  {
   "cell_type": "markdown",
   "metadata": {},
   "source": [
    " :) "
   ]
  },
  {
   "cell_type": "markdown",
   "metadata": {},
   "source": [
    "## 1D plotting of the y trajectory of the nose"
   ]
  },
  {
   "cell_type": "code",
   "execution_count": 96,
   "metadata": {
    "scrolled": true
   },
   "outputs": [
    {
     "name": "stdout",
     "output_type": "stream",
     "text": [
      "4.047025862725391\n",
      "4.047025862725391\n",
      "3.5997223435786623\n",
      "3.5997223435786623\n",
      "3.320612321820164\n",
      "3.320612321820164\n",
      "4.132435224209601\n",
      "4.132435224209601\n",
      "3.202888533385874\n",
      "3.202888533385874\n",
      "1.7950680381373303\n",
      "3.2211327506319947\n",
      "3.2211327506319947\n",
      "2.950039095813537\n",
      "3.790398313288094\n",
      "3.790398313288094\n",
      "2.796452691448124\n",
      "2.83003957648026\n",
      "2.83003957648026\n",
      "4.564705118101244\n",
      "7.6871839973196785\n",
      "7.6871839973196785\n",
      "21.9861381188703\n",
      "31.52682536759106\n",
      "31.52682536759106\n",
      "48.54789391828095\n",
      "48.54789391828095\n",
      "71.00479274697702\n",
      "71.00479274697702\n",
      "88.722450300964\n",
      "88.722450300964\n",
      "105.83438627901131\n",
      "111.0369379292687\n",
      "111.0369379292687\n",
      "127.29945430049187\n",
      "137.34776695801733\n",
      "137.34776695801733\n",
      "154.18688857764528\n",
      "164.13474902772066\n",
      "164.13474902772066\n",
      "175.6142438922012\n",
      "183.97299545317827\n",
      "187.30946918212413\n",
      "187.30946918212413\n",
      "187.91706167001706\n",
      "186.87361034965886\n",
      "186.87361034965886\n",
      "168.76435872871738\n",
      "155.14380382515532\n",
      "155.14380382515532\n",
      "137.23807872155024\n",
      "124.50503551936754\n",
      "124.50503551936754\n",
      "101.09473081592463\n",
      "101.09473081592463\n",
      "69.25587912516752\n",
      "69.25587912516752\n",
      "48.974772373370485\n",
      "48.974772373370485\n",
      "32.91730854711105\n",
      "23.755629095185327\n",
      "23.755629095185327\n",
      "9.555150082236835\n",
      "6.963677062393387\n",
      "6.963677062393387\n",
      "5.5463842202348275\n",
      "3.720127871626758\n",
      "3.720127871626758\n",
      "2.584617272687467\n",
      "2.584617272687467\n",
      "3.734223661366954\n",
      "3.734223661366954\n",
      "7.203839099430425\n",
      "7.203839099430425\n",
      "6.265137432611468\n",
      "6.265137432611468\n",
      "6.004213329411854\n",
      "6.735145613463999\n",
      "6.735145613463999\n",
      "6.301955433152102\n",
      "7.116529081764739\n",
      "7.116529081764739\n",
      "7.7074029338754855\n",
      "7.227703488593434\n",
      "7.227703488593434\n",
      "7.2641639635112085\n",
      "7.0744600351790865\n",
      "7.0744600351790865\n",
      "5.163313659311029\n",
      "7.310723793669283\n",
      "90\n"
     ]
    }
   ],
   "source": [
    "x_arr = []\n",
    "for i in range(1):\n",
    "    poses = frames[5]\n",
    "    for pose in poses:\n",
    "        ## first grab person [0] then grab 'pose' 'then keypoints' then 'body part number'\n",
    "        ## then grab 'position ' {'x', 'y'}\n",
    "        value = pose[0]['pose']['keypoints'][0]['position']['y']\n",
    "        print(value)\n",
    "        x_arr.append(value)\n",
    "print(len(x_arr))"
   ]
  },
  {
   "cell_type": "code",
   "execution_count": 97,
   "metadata": {},
   "outputs": [
    {
     "data": {
      "text/plain": [
       "Text(0.5, 1.0, 'Good Squat1')"
      ]
     },
     "execution_count": 97,
     "metadata": {},
     "output_type": "execute_result"
    },
    {
     "data": {
      "image/png": "[encoded data removed]",
      "text/plain": [
       "<Figure size 432x288 with 1 Axes>"
      ]
     },
     "metadata": {
      "needs_background": "light"
     },
     "output_type": "display_data"
    }
   ],
   "source": [
    "import scipy\n",
    "plt.plot(smoothing(x_arr))\n",
    "text = 'Good Squat' + str(labels[10])\n",
    "plt.title(text)"
   ]
  },
  {
   "cell_type": "markdown",
   "metadata": {},
   "source": [
    "## 2D trajectory of the shoulder"
   ]
  },
  {
   "cell_type": "code",
   "execution_count": 98,
   "metadata": {},
   "outputs": [],
   "source": [
    "xy_arr = []\n",
    "for i in range(1):\n",
    "    poses = frames[0]\n",
    "    for pose in poses:\n",
    "        ## first grab person [0] then grab 'pose' 'then keypoints' then 'body part number'\n",
    "        ## then grab 'position ' {'x', 'y'}\n",
    "        xvalue = pose[0]['pose']['keypoints'][5]['position']['x']\n",
    "        yvalue = pose[0]['pose']['keypoints'][5]['position']['y']\n",
    "        xy_arr.append([xvalue, yvalue])"
   ]
  },
  {
   "cell_type": "code",
   "execution_count": 99,
   "metadata": {},
   "outputs": [],
   "source": [
    "xy_arr2 = []\n",
    "for i in range(1):\n",
    "    poses = frames[10]\n",
    "    for pose in poses:\n",
    "        ## first grab person [0] then grab 'pose' 'then keypoints' then 'body part number'\n",
    "        ## then grab 'position ' {'x', 'y'}\n",
    "        xvalue = pose[0]['pose']['keypoints'][6]['position']['x']\n",
    "        yvalue = pose[0]['pose']['keypoints'][6]['position']['y']\n",
    "        xy_arr2.append([xvalue, yvalue])"
   ]
  },
  {
   "cell_type": "code",
   "execution_count": 100,
   "metadata": {},
   "outputs": [
    {
     "data": {
      "text/plain": [
       "Text(0.5, 1.0, 'Shoulder trajectory')"
      ]
     },
     "execution_count": 100,
     "metadata": {},
     "output_type": "execute_result"
    },
    {
     "data": {
      "image/png": "[encoded data removed]",
      "text/plain": [
       "<Figure size 432x288 with 1 Axes>"
      ]
     },
     "metadata": {
      "needs_background": "light"
     },
     "output_type": "display_data"
    }
   ],
   "source": [
    "xy_arr = np.asarray(xy_arr)\n",
    "xy_arr2 = np.asarray(xy_arr2)\n",
    "## apply smoothing\n",
    "xy_arr[:,0] = smoothing(xy_arr[:,0])\n",
    "xy_arr[:,1] = smoothing(xy_arr[:,1])\n",
    "xy_arr2[:,0] = smoothing(xy_arr2[:,0])\n",
    "xy_arr2[:,1] = smoothing(xy_arr2[:,1])\n",
    "plt.scatter(xy_arr[:,0], xy_arr[:,1], color='red')\n",
    "plt.scatter(xy_arr2[:,0], xy_arr2[:,1], color='blue')\n",
    "plt.title(\"Shoulder trajectory\")"
   ]
  },
  {
   "cell_type": "markdown",
   "metadata": {},
   "source": [
    "## We need to normalize signals to the same length so that classification is invariant to speed of squat\n",
    "\n",
    "I think 10 is good density"
   ]
  },
  {
   "cell_type": "code",
   "execution_count": 101,
   "metadata": {},
   "outputs": [
    {
     "name": "stdout",
     "output_type": "stream",
     "text": [
      "(9, 9, 10)\n"
     ]
    }
   ],
   "source": [
    "import scipy.signal\n",
    "\n",
    "distance_matrices = []\n",
    "for frame in raw_frames:\n",
    "    distance_matrices.append(distance_matrix(frame))\n",
    "\n",
    "    \n",
    "length = np.asarray(distance_matrices).shape[0]\n",
    "desample_to = 10\n",
    "# downsampled = scipy.signal.decimate()\n",
    "#normalize samples\n",
    "distance_matrices = np.asarray(distance_matrices).reshape(9,9,length)\n",
    "#subtract mean and divide by max to get all signals in between -1 and 1\n",
    "distance_matrices = (distance_matrices.reshape(length,9,9) - np.mean(distance_matrices, axis=2))/np.max(distance_matrices, axis=2)\n",
    "\n",
    "\n",
    "distance_matrices = np.asarray(distance_matrices).reshape(9,9,length)\n",
    "new_mat = np.zeros((9,9,desample_to))\n",
    "for i in range(distance_matrices.shape[0]):\n",
    "    for j in range(distance_matrices.shape[1]):\n",
    "        signal = scipy.signal.resample(distance_matrices[i][j], desample_to)\n",
    "        new_mat[i][j] = signal\n",
    "print(new_mat.shape)"
   ]
  },
  {
   "cell_type": "markdown",
   "metadata": {},
   "source": [
    "we now have a signal in a form that is ready to be classified."
   ]
  },
  {
   "cell_type": "markdown",
   "metadata": {},
   "source": [
    "## Final pipelines combining the parts\n",
    "add smoothing strill"
   ]
  },
  {
   "cell_type": "code",
   "execution_count": 105,
   "metadata": {},
   "outputs": [
    {
     "name": "stdout",
     "output_type": "stream",
     "text": [
      "0.41341083011443397\n",
      "(9, 9, 10)\n",
      "0.41341083011443397\n",
      "(9, 9, 10)\n",
      "0.41341083011443397\n",
      "(9, 9, 10)\n",
      "0.41341083011443397\n",
      "(9, 9, 10)\n",
      "0.41341083011443397\n",
      "(9, 9, 10)\n",
      "0.41341083011443397\n",
      "(9, 9, 10)\n",
      "0.41341083011443397\n",
      "(9, 9, 10)\n",
      "0.41341083011443397\n",
      "(9, 9, 10)\n",
      "0.41341083011443397\n",
      "(9, 9, 10)\n",
      "0.41341083011443397\n",
      "(9, 9, 10)\n",
      "0.41341083011443397\n",
      "(9, 9, 10)\n",
      "0.41341083011443397\n",
      "(9, 9, 10)\n",
      "0.41341083011443397\n",
      "(9, 9, 10)\n",
      "0.41341083011443397\n",
      "(9, 9, 10)\n",
      "0.41341083011443397\n",
      "(9, 9, 10)\n",
      "0.41341083011443397\n",
      "(9, 9, 10)\n",
      "0.41341083011443397\n",
      "(9, 9, 10)\n",
      "0.41341083011443397\n",
      "(9, 9, 10)\n",
      "0.41341083011443397\n",
      "(9, 9, 10)\n",
      "0.41341083011443397\n",
      "(9, 9, 10)\n",
      "0.41341083011443397\n",
      "(9, 9, 10)\n",
      "0.41341083011443397\n",
      "(9, 9, 10)\n",
      "0.41341083011443397\n",
      "(9, 9, 10)\n",
      "0.41341083011443397\n",
      "(9, 9, 10)\n",
      "0.41341083011443397\n",
      "(9, 9, 10)\n",
      "0.41341083011443397\n",
      "(9, 9, 10)\n",
      "0.41341083011443397\n",
      "(9, 9, 10)\n",
      "0.41341083011443397\n",
      "(9, 9, 10)\n",
      "0.41341083011443397\n",
      "(9, 9, 10)\n",
      "0.41341083011443397\n",
      "(9, 9, 10)\n",
      "0.41341083011443397\n",
      "(9, 9, 10)\n",
      "0.41341083011443397\n",
      "(9, 9, 10)\n",
      "0.41341083011443397\n",
      "(9, 9, 10)\n",
      "0.41341083011443397\n",
      "(9, 9, 10)\n",
      "0.41341083011443397\n",
      "(9, 9, 10)\n",
      "0.41341083011443397\n",
      "(9, 9, 10)\n",
      "0.41341083011443397\n",
      "(9, 9, 10)\n",
      "0.41341083011443397\n",
      "(9, 9, 10)\n",
      "0.41341083011443397\n",
      "(9, 9, 10)\n",
      "0.41341083011443397\n",
      "(9, 9, 10)\n",
      "0.41341083011443397\n",
      "(9, 9, 10)\n",
      "0.41341083011443397\n",
      "(9, 9, 10)\n",
      "final shape (42, 10, 9, 9)\n"
     ]
    }
   ],
   "source": [
    "import scipy.signal\n",
    "exclude = [9,10,8,7,4,3,1,2]\n",
    "raw_raw_frames = []\n",
    "for i in range(len(frames)):\n",
    "    poses = frames[i]\n",
    "    raw_frames = []\n",
    "    for pose in poses:\n",
    "        ## first grab person [0] then grab 'pose' 'then keypoints' then 'body part number'\n",
    "        ## then grab 'position ' {'x', 'y'}\n",
    "        body_positions = []\n",
    "        for i in range(len(pose[0]['pose']['keypoints'])):\n",
    "            if i not in exclude:\n",
    "                value = pose[0]['pose']['keypoints'][i]['position']\n",
    "                body_positions.append(value)\n",
    "        raw_frames.append(body_positions)\n",
    "    raw_raw_frames.append(raw_frames)\n",
    "\n",
    "#smoothing of length 3\n",
    "def smoothing(x_arr, window_size = 3):\n",
    "    smoothed = []\n",
    "    for i in range(int(window_size/2),int(len(x_arr)-window_size/2)):\n",
    "        smoothed.append(.333 * x_arr[i-1] + .333 * x_arr[i] + .333 * x_arr[i + 1])\n",
    "    smoothed.append(np.mean(smoothed))\n",
    "    smoothed.append(np.mean(smoothed))\n",
    "    smoothed.append(np.mean(smoothed))\n",
    "    return smoothed\n",
    "\n",
    "def distance_matrix(pose):\n",
    "    mat = np.zeros((9,9))\n",
    "    for i, part1 in enumerate(pose):\n",
    "        for j, part2 in enumerate(pose):\n",
    "            mat[i][j] = np.sqrt((part1['x'] - part2['x'])**2 + (part1['y'] - part2['y'])**2)\n",
    "    return mat\n",
    "\n",
    "data = []\n",
    "for raw_frame in raw_raw_frames:\n",
    "    distance_matrices = []\n",
    "    for frame in raw_frames:\n",
    "        distance_matrices.append(distance_matrix(frame))\n",
    "\n",
    "\n",
    "    length = np.asarray(distance_matrices).shape[0]\n",
    "    desample_to = 10\n",
    "    # downsampled = scipy.signal.decimate()\n",
    "    #normalize samples\n",
    "    distance_matrices = np.asarray(distance_matrices).reshape(9,9,length)\n",
    "    #subtract mean and divide by max to get all signals in between -1 and 1\n",
    "    distance_matrices = (distance_matrices.reshape(length,9,9))/np.max(distance_matrices, axis=2)\n",
    "    print(np.mean(distance_matrices.reshape(9,9,length)))\n",
    "    distance_matrices = distance_matrices.reshape(length,9,9) - np.mean(distance_matrices.reshape(9,9,length), axis=2)\n",
    "    \n",
    "    distance_matrices = np.asarray(distance_matrices).reshape(9,9,length)\n",
    "    new_mat = np.zeros((9,9,desample_to))\n",
    "    for i in range(distance_matrices.shape[0]):\n",
    "        for j in range(distance_matrices.shape[1]):\n",
    "            signal = scipy.signal.resample(distance_matrices[i][j], desample_to)\n",
    "            new_mat[i][j] = signal\n",
    "    print(new_mat.shape)\n",
    "    \n",
    "    data.append(new_mat.reshape(10,9,9))\n",
    "print('final shape' , np.asarray(data).shape)"
   ]
  },
  {
   "cell_type": "code",
   "execution_count": 131,
   "metadata": {},
   "outputs": [],
   "source": [
    "from sklearn.model_selection import train_test_split\n",
    "\n",
    "x_train, x_test, y_train, y_test = train_test_split(np.asarray(data).reshape(len(data),10, 9* 9), labels, train_size =.7, shuffle = True)"
   ]
  },
  {
   "cell_type": "code",
   "execution_count": 132,
   "metadata": {},
   "outputs": [
    {
     "name": "stdout",
     "output_type": "stream",
     "text": [
      "Model: \"sequential_17\"\n",
      "_________________________________________________________________\n",
      "Layer (type)                 Output Shape              Param #   \n",
      "=================================================================\n",
      "lstm_22 (LSTM)               (None, 100)               72800     \n",
      "_________________________________________________________________\n",
      "dropout_36 (Dropout)         (None, 100)               0         \n",
      "_________________________________________________________________\n",
      "dense_28 (Dense)             (None, 2)                 202       \n",
      "_________________________________________________________________\n",
      "dropout_37 (Dropout)         (None, 2)                 0         \n",
      "_________________________________________________________________\n",
      "dense_29 (Dense)             (None, 1)                 3         \n",
      "=================================================================\n",
      "Total params: 73,005\n",
      "Trainable params: 73,005\n",
      "Non-trainable params: 0\n",
      "_________________________________________________________________\n"
     ]
    }
   ],
   "source": [
    "import tensorflow.keras as keras\n",
    "from tensorflow.keras.optimizers import SGD\n",
    "model = keras.models.Sequential()\n",
    "model.add(keras.layers.LSTM(100, activation='relu', input_shape=(x_train.shape[1],x_train.shape[2])))\n",
    "model.add(keras.layers.Dropout(.5))\n",
    "model.add(keras.layers.Dense(2, activation='relu'))\n",
    "model.add(keras.layers.Dropout(.5))\n",
    "model.add(keras.layers.Dense(1, activation='relu'))\n",
    "opt = SGD(lr=.05\n",
    "         )\n",
    "model.compile(loss='mse',\n",
    "             optimizer = opt,\n",
    "             metrics=['accuracy'])\n",
    "model.summary()"
   ]
  },
  {
   "cell_type": "code",
   "execution_count": 133,
   "metadata": {},
   "outputs": [
    {
     "name": "stdout",
     "output_type": "stream",
     "text": [
      "Train on 29 samples, validate on 13 samples\n",
      "Epoch 1/10\n",
      "29/29 [==============================] - 2s 85ms/sample - loss: 0.1724 - accuracy: 0.8276 - val_loss: 0.0000e+00 - val_accuracy: 1.0000\n",
      "Epoch 2/10\n",
      "29/29 [==============================] - 0s 3ms/sample - loss: 0.1724 - accuracy: 0.8276 - val_loss: 0.0000e+00 - val_accuracy: 1.0000\n",
      "Epoch 3/10\n",
      "29/29 [==============================] - 0s 3ms/sample - loss: 0.1724 - accuracy: 0.8276 - val_loss: 0.0000e+00 - val_accuracy: 1.0000\n",
      "Epoch 4/10\n",
      "29/29 [==============================] - 0s 3ms/sample - loss: 0.1724 - accuracy: 0.8276 - val_loss: 0.0000e+00 - val_accuracy: 1.0000\n",
      "Epoch 5/10\n",
      "29/29 [==============================] - 0s 3ms/sample - loss: 0.1724 - accuracy: 0.8276 - val_loss: 0.0000e+00 - val_accuracy: 1.0000\n",
      "Epoch 6/10\n",
      "29/29 [==============================] - 0s 3ms/sample - loss: 0.1724 - accuracy: 0.8276 - val_loss: 0.0000e+00 - val_accuracy: 1.0000\n",
      "Epoch 7/10\n",
      "29/29 [==============================] - 0s 3ms/sample - loss: 0.1724 - accuracy: 0.8276 - val_loss: 0.0000e+00 - val_accuracy: 1.0000\n",
      "Epoch 8/10\n",
      "29/29 [==============================] - 0s 3ms/sample - loss: 0.1724 - accuracy: 0.8276 - val_loss: 0.0000e+00 - val_accuracy: 1.0000\n",
      "Epoch 9/10\n",
      "29/29 [==============================] - 0s 3ms/sample - loss: 0.1724 - accuracy: 0.8276 - val_loss: 0.0000e+00 - val_accuracy: 1.0000\n",
      "Epoch 10/10\n",
      "29/29 [==============================] - 0s 3ms/sample - loss: 0.1724 - accuracy: 0.8276 - val_loss: 0.0000e+00 - val_accuracy: 1.0000\n"
     ]
    },
    {
     "data": {
      "text/plain": [
       "<tensorflow.python.keras.callbacks.History at 0x13130a710>"
      ]
     },
     "execution_count": 133,
     "metadata": {},
     "output_type": "execute_result"
    }
   ],
   "source": [
    "\n",
    "model.fit(x_train, y_train, epochs=10, validation_data=(x_test, y_test))\n",
    "\n"
   ]
  },
  {
   "cell_type": "code",
   "execution_count": 134,
   "metadata": {},
   "outputs": [
    {
     "name": "stdout",
     "output_type": "stream",
     "text": [
      "[[-0.]\n",
      " [-0.]\n",
      " [-0.]\n",
      " [-0.]\n",
      " [-0.]\n",
      " [-0.]\n",
      " [-0.]\n",
      " [-0.]\n",
      " [-0.]\n",
      " [-0.]\n",
      " [-0.]\n",
      " [-0.]\n",
      " [-0.]]\n"
     ]
    }
   ],
   "source": [
    "predictions = model.predict(x_test)\n",
    "print(predictions)"
   ]
  },
  {
   "cell_type": "markdown",
   "metadata": {},
   "source": []
  },
  {
   "cell_type": "code",
   "execution_count": null,
   "metadata": {},
   "outputs": [],
   "source": []
  }
 ],
 "metadata": {
  "kernelspec": {
   "display_name": "Python 3",
   "language": "python",
   "name": "python3"
  },
  "language_info": {
   "codemirror_mode": {
    "name": "ipython",
    "version": 3
   },
   "file_extension": ".py",
   "mimetype": "text/x-python",
   "name": "python",
   "nbconvert_exporter": "python",
   "pygments_lexer": "ipython3",
   "version": "3.7.5"
  }
 },
 "nbformat": 4,
 "nbformat_minor": 2
}
