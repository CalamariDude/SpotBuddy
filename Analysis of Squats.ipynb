{
 "cells": [
  {
   "cell_type": "code",
   "execution_count": 17,
   "metadata": {},
   "outputs": [],
   "source": [
    "import matplotlib.pyplot as plt\n",
    "import numpy as np\n",
    "\n",
    "\n",
    "frames = np.load('frames.npy', allow_pickle=True)\n",
    "labels = np.load('labels.npy', allow_pickle=True)\n"
   ]
  },
  {
   "cell_type": "code",
   "execution_count": 32,
   "metadata": {},
   "outputs": [
    {
     "name": "stdout",
     "output_type": "stream",
     "text": [
      "1\n"
     ]
    }
   ],
   "source": [
    "print(len(frames))"
   ]
  },
  {
   "cell_type": "code",
   "execution_count": 53,
   "metadata": {},
   "outputs": [
    {
     "name": "stdout",
     "output_type": "stream",
     "text": [
      "235.47193739149304\n",
      "235.50617775721855\n",
      "235.50617775721855\n",
      "239.18556020041422\n",
      "239.18556020041422\n",
      "233.4635488052814\n",
      "230.11815359253166\n",
      "230.11815359253166\n",
      "230.55894342314662\n",
      "230.55894342314662\n",
      "231.0801800882142\n",
      "231.0801800882142\n",
      "232.96858343232213\n",
      "232.96858343232213\n",
      "231.8724366424144\n",
      "231.8724366424144\n",
      "229.90170246444018\n",
      "231.46120127181558\n",
      "231.46120127181558\n",
      "229.54081990797846\n",
      "231.16190295005634\n",
      "231.42139457122624\n",
      "232.24389624642117\n",
      "232.8981253045809\n",
      "232.8981253045809\n",
      "227.1971716332389\n",
      "227.1971716332389\n",
      "230.39637574907863\n",
      "229.33413262023328\n",
      "229.69394438448006\n",
      "230.64152291876064\n",
      "230.64152291876064\n",
      "229.08093309309515\n",
      "231.16992139909235\n",
      "229.3487263283534\n",
      "229.6801805403265\n",
      "229.4560845507051\n",
      "229.4560845507051\n",
      "229.97875905176352\n"
     ]
    }
   ],
   "source": [
    "x_arr = []\n",
    "for i in range(len(frames)):\n",
    "    poses = frames[i]\n",
    "    for pose in poses:\n",
    "        value = pose[0]['pose']['keypoints'][0]['position']['y']\n",
    "        print(value)\n",
    "        x_arr.append(value)\n"
   ]
  },
  {
   "cell_type": "code",
   "execution_count": 54,
   "metadata": {},
   "outputs": [
    {
     "data": {
      "text/plain": [
       "[<matplotlib.lines.Line2D at 0x11f859910>]"
      ]
     },
     "execution_count": 54,
     "metadata": {},
     "output_type": "execute_result"
    },
    {
     "data": {
      "image/png": "[encoded data removed]",
      "text/plain": [
       "<Figure size 432x288 with 1 Axes>"
      ]
     },
     "metadata": {
      "needs_background": "light"
     },
     "output_type": "display_data"
    }
   ],
   "source": [
    "plt.plot(x_arr)"
   ]
  },
  {
   "cell_type": "code",
   "execution_count": null,
   "metadata": {},
   "outputs": [],
   "source": []
  }
 ],
 "metadata": {
  "kernelspec": {
   "display_name": "Python 3",
   "language": "python",
   "name": "python3"
  },
  "language_info": {
   "codemirror_mode": {
    "name": "ipython",
    "version": 3
   },
   "file_extension": ".py",
   "mimetype": "text/x-python",
   "name": "python",
   "nbconvert_exporter": "python",
   "pygments_lexer": "ipython3",
   "version": "3.7.5"
  }
 },
 "nbformat": 4,
 "nbformat_minor": 2
}
